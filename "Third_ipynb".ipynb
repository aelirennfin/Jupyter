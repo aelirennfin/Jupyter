{
  "nbformat": 4,
  "nbformat_minor": 0,
  "metadata": {
    "colab": {
      "provenance": [],
      "authorship_tag": "ABX9TyPtlYa+rAqg+Fb0WSYlUHkY",
      "include_colab_link": true
    },
    "kernelspec": {
      "name": "python3",
      "display_name": "Python 3"
    },
    "language_info": {
      "name": "python"
    }
  },
  "cells": [
    {
      "cell_type": "markdown",
      "metadata": {
        "id": "view-in-github",
        "colab_type": "text"
      },
      "source": [
        "<a href=\"https://colab.research.google.com/github/aelirennfin/Jupyter/blob/develop/%22Third_ipynb%22.ipynb\" target=\"_parent\"><img src=\"https://colab.research.google.com/assets/colab-badge.svg\" alt=\"Open In Colab\"/></a>"
      ]
    },
    {
      "cell_type": "markdown",
      "source": [
        "# Третий файл"
      ],
      "metadata": {
        "id": "QnTry9-oYP2q"
      }
    },
    {
      "cell_type": "code",
      "execution_count": null,
      "metadata": {
        "id": "UytbmlLbX319",
        "colab": {
          "base_uri": "https://localhost:8080/"
        },
        "outputId": "b2fab00c-bd14-4511-8d0f-f93e42c2027f"
      },
      "outputs": [
        {
          "output_type": "stream",
          "name": "stdout",
          "text": [
            "Hello world\n"
          ]
        }
      ],
      "source": [
        "print('Hello world')"
      ]
    },
    {
      "cell_type": "code",
      "source": [
        "def fibonacci(max):        # генератор (а не функция, т.к. оператор return заменён на yield)\n",
        "    a, b = 0, 1\n",
        "    while a < max:\n",
        "        yield a            # return a, + запоминаем место рестарта для следующего вызова\n",
        "        a, b = b, a + b    # параллельное присваивание, которое выполняется одновременно и параллельно\n",
        "\n",
        "for n in fibonacci(100):   # используем генератор fibonacci() как итератор\n",
        "    print(n)               # печатаем все числа Фибоначчи меньшие 100 через пробел"
      ],
      "metadata": {
        "colab": {
          "base_uri": "https://localhost:8080/"
        },
        "id": "iliONjNhZK7d",
        "outputId": "0ca27e58-a95d-407c-afc9-ff68f4118e0c"
      },
      "execution_count": null,
      "outputs": [
        {
          "output_type": "stream",
          "name": "stdout",
          "text": [
            "0\n",
            "1\n",
            "1\n",
            "2\n",
            "3\n",
            "5\n",
            "8\n",
            "13\n",
            "21\n",
            "34\n",
            "55\n",
            "89\n"
          ]
        }
      ]
    }
  ]
}