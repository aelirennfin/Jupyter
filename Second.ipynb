{
 "cells": [
  {
   "cell_type": "code",
   "execution_count": null,
   "id": "d9af8ca3-1eb7-4a90-a96f-4d066f2036b3",
   "metadata": {},
   "outputs": [],
   "source": []
  }
 ],
 "metadata": {
  "kernelspec": {
   "display_name": "",
   "name": ""
  },
  "language_info": {
   "name": ""
  }
 },
 "nbformat": 4,
 "nbformat_minor": 5
}
