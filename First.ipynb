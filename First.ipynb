{
 "cells": [
  {
   "cell_type": "markdown",
   "id": "72f1d5f0-cfa4-4b76-99c0-2d396fb4350d",
   "metadata": {},
   "source": [
    "# МОЙ ПЕРВЫЙ ФАЙЛ JUPYTER NOTEBOOK"
   ]
  },
  {
   "cell_type": "code",
   "execution_count": 1,
   "id": "533f3d1c-1381-419a-b614-623ce6adfc72",
   "metadata": {},
   "outputs": [
    {
     "name": "stdout",
     "output_type": "stream",
     "text": [
      "Hello world!\n"
     ]
    }
   ],
   "source": [
    "print('Hello world!')"
   ]
  },
  {
   "cell_type": "code",
   "execution_count": 2,
   "id": "4cd9adf6-21c0-4df2-a9fd-235702c74bef",
   "metadata": {},
   "outputs": [
    {
     "data": {
      "text/plain": [
       "4"
      ]
     },
     "execution_count": 2,
     "metadata": {},
     "output_type": "execute_result"
    }
   ],
   "source": [
    "2+2"
   ]
  },
  {
   "cell_type": "code",
   "execution_count": 3,
   "id": "1884b41a-ceb4-4996-8d43-db9ffb77a0e8",
   "metadata": {},
   "outputs": [
    {
     "name": "stdout",
     "output_type": "stream",
     "text": [
      "0\n",
      "1\n",
      "1\n",
      "2\n",
      "3\n",
      "5\n",
      "8\n",
      "13\n",
      "21\n",
      "34\n",
      "55\n",
      "89\n"
     ]
    }
   ],
   "source": [
    "def fibonacci(max):        # генератор (а не функция, т.к. оператор return заменён на yield)\n",
    "    a, b = 0, 1\n",
    "    while a < max:\n",
    "        yield a            # return a, + запоминаем место рестарта для следующего вызова\n",
    "        a, b = b, a + b    # параллельное присваивание, которое выполняется одновременно и параллельно\n",
    "\n",
    "for n in fibonacci(100):   # используем генератор fibonacci() как итератор\n",
    "    print(n)               # печатаем все числа Фибоначчи меньшие 100 через пробел"
   ]
  },
  {
   "cell_type": "code",
   "execution_count": null,
   "id": "99729a02-25b0-46eb-9856-7bb78a8b3e63",
   "metadata": {},
   "outputs": [],
   "source": []
  }
 ],
 "metadata": {
  "kernelspec": {
   "display_name": "Python 3 (ipykernel)",
   "language": "python",
   "name": "python3"
  },
  "language_info": {
   "codemirror_mode": {
    "name": "ipython",
    "version": 3
   },
   "file_extension": ".py",
   "mimetype": "text/x-python",
   "name": "python",
   "nbconvert_exporter": "python",
   "pygments_lexer": "ipython3",
   "version": "3.12.3"
  }
 },
 "nbformat": 4,
 "nbformat_minor": 5
}
